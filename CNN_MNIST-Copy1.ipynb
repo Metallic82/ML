{
 "cells": [
  {
   "cell_type": "code",
   "execution_count": 14,
   "metadata": {
    "scrolled": true
   },
   "outputs": [
    {
     "name": "stdout",
     "output_type": "stream",
     "text": [
      "1.6.0-rc1\n"
     ]
    },
    {
     "data": {
      "text/plain": [
       "'C:\\\\Users\\\\kritanu\\\\Documents'"
      ]
     },
     "execution_count": 14,
     "metadata": {},
     "output_type": "execute_result"
    }
   ],
   "source": [
    "import tensorflow as tf\n",
    "import pandas as pd\n",
    "import time \n",
    "\n",
    "print(tf.__version__)\n",
    "\n",
    "import os\n",
    "os.chdir('C:\\\\Users\\\\kritanu\\\\Documents')\n",
    "os.getcwd()"
   ]
  },
  {
   "cell_type": "code",
   "execution_count": 6,
   "metadata": {
    "collapsed": true
   },
   "outputs": [],
   "source": [
    "mnist_train = pd.read_csv(\"C:\\\\Users\\\\kritanu\\\\Documents\\\\train.csv\")\n",
    "mnist_test = pd.read_csv(\"C:\\\\Users\\\\kritanu\\\\Documents\\\\test.csv\")\n",
    "\n",
    "raw_data = np.loadtxt(mnist_train, skiprows=1, dtype='int', delimiter=',')\n",
    "\n",
    "X_train, X_test, y_train, y_test = train_test_split(raw_data[:,1:], raw_data[:,0], test_size=0.1)"
   ]
  },
  {
   "cell_type": "code",
   "execution_count": 7,
   "metadata": {
    "collapsed": true
   },
   "outputs": [],
   "source": [
    "#Optimization variables\n",
    "\n",
    "learning_rate = 0.0001\n",
    "epochs = 20\n",
    "batch_size = 100\n",
    "beta = 0.01 #regularizer\n",
    "\n",
    "#training data placeholders\n",
    "# input x = 28 x 28 pixels = 784 flattened image\n",
    "\n",
    "#mnist.train.nextbatch()\n",
    "\n",
    "x = tf.placeholder(tf.float32, [None, 784])\n",
    "\n",
    "#dynamically reshape the input\n",
    "\n",
    "x_shaped = tf.reshape(x, [-1, 28, 28, 1])\n",
    "\n",
    "#output data placeholder\n",
    "\n",
    "y = tf.placeholder(tf.float32, [None, 10])\n",
    "\n",
    "#dropout prob placeholder\n",
    "\n",
    "keep_prob = tf.placeholder(tf.float32)"
   ]
  },
  {
   "cell_type": "code",
   "execution_count": 8,
   "metadata": {
    "collapsed": true
   },
   "outputs": [],
   "source": [
    "#function to create layers for model\n",
    "\n",
    "def create_new_conv_layer(input_data, num_input_channels, num_filters, filter_shape, pool_shape, name):\n",
    "    \n",
    "    #make the filter input shape for tf.nn.conv_2d\n",
    "    \n",
    "    conv_filt_shape = [filter_shape[0], filter_shape[1], num_input_channels, num_filters]\n",
    "    \n",
    "    #initialization of w and b for the filter\n",
    "    \n",
    "    weights = tf.Variable(tf.truncated_normal(conv_filt_shape, stddev = 0.03), name= name+'_W')\n",
    "    bias = tf.Variable(tf.truncated_normal([num_filters]), name = name+'_b')\n",
    "    \n",
    "    #setup conv layer operation\n",
    "    \n",
    "    out_layer = tf.nn.conv2d(input_data, weights, [1, 1, 1, 1], padding = \"SAME\")\n",
    "    \n",
    "    #adding the bias\n",
    "    \n",
    "    out_layer += bias\n",
    "    \n",
    "    #relu activation\n",
    "    \n",
    "    out_layer = tf.nn.relu(out_layer)\n",
    "    \n",
    "    #max-pooling\n",
    "    \n",
    "    ksize = [1, pool_shape[0], pool_shape[1], 1]\n",
    "    strides = [1, 2, 2, 1]\n",
    "    out_layer = tf.nn.max_pool(out_layer, ksize = ksize, strides = strides, padding = \"SAME\")\n",
    "    \n",
    "    return out_layer"
   ]
  },
  {
   "cell_type": "code",
   "execution_count": 9,
   "metadata": {
    "collapsed": true
   },
   "outputs": [],
   "source": [
    "#creating some conv layers\n",
    "\n",
    "layer1 = create_new_conv_layer(x_shaped, 1, 32, [5, 5], [2, 2], name='layer1')\n",
    "layer2 = create_new_conv_layer(layer1, 32, 64, [5, 5], [2, 2], name='layer2')"
   ]
  },
  {
   "cell_type": "code",
   "execution_count": 10,
   "metadata": {
    "collapsed": true
   },
   "outputs": [],
   "source": [
    "#FC layer\n",
    "flattened = tf.reshape(layer2, [-1, 7 * 7 * 64])"
   ]
  },
  {
   "cell_type": "code",
   "execution_count": 11,
   "metadata": {
    "collapsed": true
   },
   "outputs": [],
   "source": [
    "#setup some weights and bias values for 1st layer, then activate with ReLU\n",
    "\n",
    "wd1 = tf.Variable(tf.truncated_normal([7 * 7 * 64, 1000], stddev=0.03), name='wd1')\n",
    "bd1 = tf.Variable(tf.truncated_normal([1000], stddev=0.01), name='bd1')\n",
    "\n",
    "dense_layer1 = tf.matmul(flattened, wd1) + bd1\n",
    "\n",
    "dense_layer1 = tf.nn.relu(dense_layer1)\n",
    "\n",
    "#drop out\n",
    "dense_layer1 = tf.nn.dropout(dense_layer1, keep_prob)"
   ]
  },
  {
   "cell_type": "code",
   "execution_count": 12,
   "metadata": {
    "collapsed": true
   },
   "outputs": [],
   "source": [
    "#Another layer with softmax activation\n",
    "\n",
    "wd2 = tf.Variable(tf.truncated_normal([1000, 10], stddev=0.03), name='wd2')\n",
    "bd2 = tf.Variable(tf.truncated_normal([10], stddev=0.01), name='bd2')\n",
    "\n",
    "dense_layer2 = tf.matmul(dense_layer1, wd2) + bd2\n",
    "\n",
    "y_ = tf.nn.softmax(dense_layer2)\n",
    "\n",
    "regularizers = tf.nn.l2_loss(wd2) + tf.nn.l2_loss(bd2)"
   ]
  },
  {
   "cell_type": "code",
   "execution_count": 13,
   "metadata": {
    "collapsed": true
   },
   "outputs": [],
   "source": [
    "#Optimization function \n",
    "\n",
    "#cross_entropy = tf.reduce_mean(tf.nn.softmax_cross_entropy_with_logits_v2(logits=dense_layer2, labels=y))\n",
    "\n",
    "#WITH REGULARIZATION\n",
    "cross_entropy = tf.reduce_mean(tf.nn.softmax_cross_entropy_with_logits_v2(logits=dense_layer2, labels=y) + beta * regularizers)"
   ]
  },
  {
   "cell_type": "code",
   "execution_count": 13,
   "metadata": {},
   "outputs": [
    {
     "name": "stdout",
     "output_type": "stream",
     "text": [
      "Epoch: 1 cost = 1.157  test accuracy: 90.830\n",
      "Epoch: 2 cost = 0.301  test accuracy: 94.870\n",
      "Epoch: 3 cost = 0.201  test accuracy: 96.280\n",
      "Epoch: 4 cost = 0.152  test accuracy: 97.300\n",
      "Epoch: 5 cost = 0.126  test accuracy: 97.580\n",
      "Epoch: 6 cost = 0.108  test accuracy: 97.750\n",
      "Epoch: 7 cost = 0.099  test accuracy: 98.130\n",
      "Epoch: 8 cost = 0.089  test accuracy: 98.300\n",
      "Epoch: 9 cost = 0.081  test accuracy: 98.360\n",
      "Epoch: 10 cost = 0.075  test accuracy: 98.490\n",
      "Epoch: 11 cost = 0.070  test accuracy: 98.640\n",
      "Epoch: 12 cost = 0.064  test accuracy: 98.860\n",
      "Epoch: 13 cost = 0.061  test accuracy: 98.850\n",
      "Epoch: 14 cost = 0.057  test accuracy: 98.750\n",
      "Epoch: 15 cost = 0.053  test accuracy: 98.850\n",
      "Epoch: 16 cost = 0.051  test accuracy: 98.940\n",
      "Epoch: 17 cost = 0.047  test accuracy: 98.690\n",
      "Epoch: 18 cost = 0.044  test accuracy: 99.040\n",
      "Epoch: 19 cost = 0.043  test accuracy: 98.940\n",
      "Epoch: 20 cost = 0.041  test accuracy: 99.060\n",
      "99.0599989891\n",
      "--- 204.50387406349182 seconds ---\n"
     ]
    }
   ],
   "source": [
    "start_time = time.time()\n",
    "\n",
    "#Optimizer\n",
    "update_ops = tf.get_collection(tf.GraphKeys.UPDATE_OPS)\n",
    "\n",
    "with tf.control_dependencies(update_ops):\n",
    "        # Ensures that we execute the update_ops before performing the train_step\n",
    "        optimizer = tf.train.AdamOptimizer(learning_rate = learning_rate).minimize(cross_entropy)\n",
    "#Accuracy\n",
    "\n",
    "correct_prediction = tf.equal(tf.argmax(y, 1), tf.argmax(y_, 1))\n",
    "accuracy = tf.reduce_mean(tf.cast(correct_prediction, tf.float32))\n",
    "\n",
    "#Setup the initialization operator\n",
    "\n",
    "init_op = tf.global_variables_initializer()\n",
    "        \n",
    "\n",
    "with tf.Session() as sess:\n",
    "    # initialise the variables\n",
    "    sess.run(init_op)\n",
    "    total_batch = int(len(mnist.train.labels) / batch_size)\n",
    "    writer = tf.summary.FileWriter(\"output\", sess.graph)\n",
    "    for epoch in range(epochs):\n",
    "        avg_cost = 0\n",
    "        for i in range(total_batch):\n",
    "            batch_x, batch_y = mnist.train.next_batch(batch_size=batch_size)\n",
    "            _, c = sess.run([optimizer, cross_entropy], feed_dict={x: batch_x, y: batch_y, keep_prob : 0.7})\n",
    "            avg_cost += c / total_batch\n",
    "            \n",
    "        test_acc = sess.run(accuracy, feed_dict={x: mnist.test.images, y: mnist.test.labels, keep_prob : 1.0})*100\n",
    "        \n",
    "        print(\"Epoch:\", (epoch + 1), \"cost =\", \"{:.3f}\".format(avg_cost), \" test accuracy: {:.3f}\".format(test_acc))\n",
    "    print(sess.run(accuracy, feed_dict={x: mnist.test.images, y: mnist.test.labels, keep_prob : 1.0})*100)\n",
    "    print(\"--- %s seconds ---\" % (time.time() - start_time))\n",
    "    writer.close()"
   ]
  },
  {
   "cell_type": "markdown",
   "metadata": {},
   "source": [
    "## Proc - i5-7700HQ\n",
    "## gpu - 1050ti\n",
    "## Py - 3.6.4\n",
    "## Tensorflow - 1.6.0-rc1 gpu\n",
    "## Cuda Toolkit - 9.0"
   ]
  }
 ],
 "metadata": {
  "kernelspec": {
   "display_name": "Python 3",
   "language": "python",
   "name": "python3"
  },
  "language_info": {
   "codemirror_mode": {
    "name": "ipython",
    "version": 3
   },
   "file_extension": ".py",
   "mimetype": "text/x-python",
   "name": "python",
   "nbconvert_exporter": "python",
   "pygments_lexer": "ipython3",
   "version": "3.6.3"
  }
 },
 "nbformat": 4,
 "nbformat_minor": 2
}
