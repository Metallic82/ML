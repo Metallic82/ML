{
 "cells": [
  {
   "cell_type": "code",
   "execution_count": 5,
   "metadata": {
    "scrolled": true
   },
   "outputs": [
    {
     "name": "stdout",
     "output_type": "stream",
     "text": [
      "1.6.0-rc1\n",
      "Extracting MNIST_data/train-images-idx3-ubyte.gz\n",
      "Extracting MNIST_data/train-labels-idx1-ubyte.gz\n",
      "Extracting MNIST_data/t10k-images-idx3-ubyte.gz\n",
      "Extracting MNIST_data/t10k-labels-idx1-ubyte.gz\n"
     ]
    }
   ],
   "source": [
    "import tensorflow as tf\n",
    "import time \n",
    "\n",
    "print(tf.__version__)\n",
    "from tensorflow.examples.tutorials.mnist import input_data\n",
    "mnist = input_data.read_data_sets(\"MNIST_data/\", one_hot = True)"
   ]
  },
  {
   "cell_type": "code",
   "execution_count": 46,
   "metadata": {},
   "outputs": [],
   "source": [
    "#Optimization variables\n",
    "\n",
    "learning_rate = 0.0003\n",
    "epochs = 100\n",
    "batch_size = 200\n",
    "beta = 0.05 #regularizer\n",
    "\n",
    "#training data placeholders\n",
    "# input x = 28 x 28 pixels = 784 flattened image\n",
    "\n",
    "#mnist.train.nextbatch()\n",
    "\n",
    "x = tf.placeholder(tf.float32, [None, 784])\n",
    "\n",
    "#dynamically reshape the input\n",
    "\n",
    "x_shaped = tf.reshape(x, [-1, 28, 28, 1])\n",
    "\n",
    "#output data placeholder\n",
    "\n",
    "y = tf.placeholder(tf.float32, [None, 10])\n",
    "\n",
    "#dropout prob placeholder\n",
    "\n",
    "keep_prob = tf.placeholder(tf.float32)"
   ]
  },
  {
   "cell_type": "code",
   "execution_count": 47,
   "metadata": {
    "collapsed": true
   },
   "outputs": [],
   "source": [
    "#function to create layers for model\n",
    "\n",
    "def create_new_conv_layer(input_data, num_input_channels, num_filters, filter_shape, pool_shape, name):\n",
    "    \n",
    "    #make the filter input shape for tf.nn.conv_2d\n",
    "    \n",
    "    conv_filt_shape = [filter_shape[0], filter_shape[1], num_input_channels, num_filters]\n",
    "    \n",
    "    #initialization of w and b for the filter\n",
    "    \n",
    "    weights = tf.Variable(tf.truncated_normal(conv_filt_shape, stddev = 0.03), name= name+'_W')\n",
    "    bias = tf.Variable(tf.truncated_normal([num_filters]), name = name+'_b')\n",
    "    \n",
    "    #setup conv layer operation\n",
    "    \n",
    "    out_layer = tf.nn.conv2d(input_data, weights, [1, 1, 1, 1], padding = \"SAME\")\n",
    "    \n",
    "    #adding the bias\n",
    "    \n",
    "    out_layer += bias\n",
    "    \n",
    "    #relu activation\n",
    "    \n",
    "    out_layer = tf.nn.relu(out_layer)\n",
    "    \n",
    "    #max-pooling\n",
    "    \n",
    "    ksize = [1, pool_shape[0], pool_shape[1], 1]\n",
    "    strides = [1, 2, 2, 1]\n",
    "    out_layer = tf.nn.max_pool(out_layer, ksize = ksize, strides = strides, padding = \"SAME\")\n",
    "    \n",
    "    return out_layer"
   ]
  },
  {
   "cell_type": "code",
   "execution_count": 48,
   "metadata": {},
   "outputs": [],
   "source": [
    "#creating some conv layers\n",
    "\n",
    "layer1 = create_new_conv_layer(x_shaped, 1, 32, [5, 5], [2, 2], name='layer1')\n",
    "layer2 = create_new_conv_layer(layer1, 32, 64, [5, 5], [2, 2], name='layer2')"
   ]
  },
  {
   "cell_type": "code",
   "execution_count": 49,
   "metadata": {},
   "outputs": [],
   "source": [
    "#FC layer\n",
    "flattened = tf.reshape(layer2, [-1, 7 * 7 * 64])"
   ]
  },
  {
   "cell_type": "code",
   "execution_count": 50,
   "metadata": {
    "collapsed": true
   },
   "outputs": [],
   "source": [
    "#setup some weights and bias values for 1st layer, then activate with ReLU\n",
    "\n",
    "wd1 = tf.Variable(tf.truncated_normal([7 * 7 * 64, 1000], stddev=0.03), name='wd1')\n",
    "bd1 = tf.Variable(tf.truncated_normal([1000], stddev=0.01), name='bd1')\n",
    "dense_layer1 = tf.matmul(flattened, wd1) + bd1\n",
    "dense_layer1 = tf.nn.relu(dense_layer1)\n",
    "\n",
    "#drop out\n",
    "dense_layer1 = tf.nn.dropout(dense_layer1, keep_prob)"
   ]
  },
  {
   "cell_type": "code",
   "execution_count": 51,
   "metadata": {
    "collapsed": true
   },
   "outputs": [],
   "source": [
    "#Another layer with softmax activation\n",
    "\n",
    "wd2 = tf.Variable(tf.truncated_normal([1000, 10], stddev=0.03), name='wd2')\n",
    "bd2 = tf.Variable(tf.truncated_normal([10], stddev=0.01), name='bd2')\n",
    "dense_layer2 = tf.matmul(dense_layer1, wd2) + bd2\n",
    "y_ = tf.nn.softmax(dense_layer2)\n",
    "\n",
    "regularizers = tf.nn.l2_loss(wd2) + tf.nn.l2_loss(bd2)"
   ]
  },
  {
   "cell_type": "code",
   "execution_count": 52,
   "metadata": {
    "collapsed": true
   },
   "outputs": [],
   "source": [
    "#Optimization function \n",
    "\n",
    "#cross_entropy = tf.reduce_mean(tf.nn.softmax_cross_entropy_with_logits_v2(logits=dense_layer2, labels=y))\n",
    "\n",
    "#WITH REGULARIZATION\n",
    "cross_entropy = tf.reduce_mean(tf.nn.softmax_cross_entropy_with_logits_v2(logits=dense_layer2, labels=y) + beta * regularizers)"
   ]
  },
  {
   "cell_type": "code",
   "execution_count": 53,
   "metadata": {
    "scrolled": false
   },
   "outputs": [
    {
     "name": "stdout",
     "output_type": "stream",
     "text": [
      "Epoch: 1 cost = 1.156  test accuracy: 0.932\n",
      "Epoch: 2 cost = 0.264  test accuracy: 0.967\n",
      "Epoch: 3 cost = 0.176  test accuracy: 0.975\n",
      "Epoch: 4 cost = 0.138  test accuracy: 0.978\n",
      "Epoch: 5 cost = 0.115  test accuracy: 0.984\n",
      "Epoch: 6 cost = 0.101  test accuracy: 0.985\n",
      "Epoch: 7 cost = 0.090  test accuracy: 0.985\n",
      "Epoch: 8 cost = 0.083  test accuracy: 0.987\n",
      "Epoch: 9 cost = 0.075  test accuracy: 0.988\n",
      "Epoch: 10 cost = 0.069  test accuracy: 0.988\n",
      "Epoch: 11 cost = 0.065  test accuracy: 0.990\n",
      "Epoch: 12 cost = 0.061  test accuracy: 0.989\n",
      "Epoch: 13 cost = 0.057  test accuracy: 0.990\n",
      "Epoch: 14 cost = 0.054  test accuracy: 0.991\n",
      "Epoch: 15 cost = 0.050  test accuracy: 0.990\n",
      "Epoch: 16 cost = 0.049  test accuracy: 0.988\n",
      "Epoch: 17 cost = 0.047  test accuracy: 0.991\n",
      "Epoch: 18 cost = 0.045  test accuracy: 0.991\n",
      "Epoch: 19 cost = 0.043  test accuracy: 0.989\n",
      "Epoch: 20 cost = 0.041  test accuracy: 0.991\n",
      "Epoch: 21 cost = 0.039  test accuracy: 0.991\n",
      "Epoch: 22 cost = 0.038  test accuracy: 0.992\n",
      "Epoch: 23 cost = 0.037  test accuracy: 0.990\n",
      "Epoch: 24 cost = 0.034  test accuracy: 0.991\n",
      "Epoch: 25 cost = 0.034  test accuracy: 0.991\n",
      "Epoch: 26 cost = 0.032  test accuracy: 0.991\n",
      "Epoch: 27 cost = 0.032  test accuracy: 0.992\n",
      "Epoch: 28 cost = 0.030  test accuracy: 0.991\n",
      "Epoch: 29 cost = 0.031  test accuracy: 0.991\n",
      "Epoch: 30 cost = 0.029  test accuracy: 0.992\n",
      "Epoch: 31 cost = 0.028  test accuracy: 0.992\n",
      "Epoch: 32 cost = 0.027  test accuracy: 0.991\n",
      "Epoch: 33 cost = 0.027  test accuracy: 0.991\n",
      "Epoch: 34 cost = 0.026  test accuracy: 0.992\n",
      "Epoch: 35 cost = 0.024  test accuracy: 0.992\n",
      "Epoch: 36 cost = 0.025  test accuracy: 0.992\n",
      "Epoch: 37 cost = 0.024  test accuracy: 0.993\n",
      "Epoch: 38 cost = 0.023  test accuracy: 0.991\n",
      "Epoch: 39 cost = 0.023  test accuracy: 0.992\n",
      "Epoch: 40 cost = 0.023  test accuracy: 0.992\n",
      "Epoch: 41 cost = 0.021  test accuracy: 0.992\n",
      "Epoch: 42 cost = 0.021  test accuracy: 0.993\n",
      "Epoch: 43 cost = 0.020  test accuracy: 0.991\n",
      "Epoch: 44 cost = 0.020  test accuracy: 0.992\n",
      "Epoch: 45 cost = 0.019  test accuracy: 0.992\n",
      "Epoch: 46 cost = 0.020  test accuracy: 0.993\n",
      "Epoch: 47 cost = 0.019  test accuracy: 0.992\n",
      "Epoch: 48 cost = 0.020  test accuracy: 0.991\n",
      "Epoch: 49 cost = 0.018  test accuracy: 0.992\n",
      "Epoch: 50 cost = 0.018  test accuracy: 0.992\n",
      "Epoch: 51 cost = 0.018  test accuracy: 0.993\n",
      "Epoch: 52 cost = 0.017  test accuracy: 0.993\n",
      "Epoch: 53 cost = 0.017  test accuracy: 0.992\n",
      "Epoch: 54 cost = 0.017  test accuracy: 0.992\n",
      "Epoch: 55 cost = 0.016  test accuracy: 0.992\n",
      "Epoch: 56 cost = 0.016  test accuracy: 0.993\n",
      "Epoch: 57 cost = 0.016  test accuracy: 0.993\n",
      "Epoch: 58 cost = 0.016  test accuracy: 0.992\n",
      "Epoch: 59 cost = 0.016  test accuracy: 0.992\n",
      "Epoch: 60 cost = 0.016  test accuracy: 0.993\n",
      "Epoch: 61 cost = 0.014  test accuracy: 0.992\n",
      "Epoch: 62 cost = 0.013  test accuracy: 0.992\n",
      "Epoch: 63 cost = 0.014  test accuracy: 0.990\n",
      "Epoch: 64 cost = 0.014  test accuracy: 0.992\n",
      "Epoch: 65 cost = 0.013  test accuracy: 0.991\n",
      "Epoch: 66 cost = 0.014  test accuracy: 0.993\n",
      "Epoch: 67 cost = 0.013  test accuracy: 0.992\n",
      "Epoch: 68 cost = 0.013  test accuracy: 0.992\n",
      "Epoch: 69 cost = 0.014  test accuracy: 0.993\n",
      "Epoch: 70 cost = 0.012  test accuracy: 0.992\n",
      "Epoch: 71 cost = 0.013  test accuracy: 0.993\n",
      "Epoch: 72 cost = 0.012  test accuracy: 0.992\n",
      "Epoch: 73 cost = 0.012  test accuracy: 0.992\n",
      "Epoch: 74 cost = 0.013  test accuracy: 0.992\n",
      "Epoch: 75 cost = 0.011  test accuracy: 0.992\n",
      "Epoch: 76 cost = 0.013  test accuracy: 0.992\n",
      "Epoch: 77 cost = 0.012  test accuracy: 0.993\n",
      "Epoch: 78 cost = 0.011  test accuracy: 0.992\n",
      "Epoch: 79 cost = 0.011  test accuracy: 0.992\n",
      "Epoch: 80 cost = 0.013  test accuracy: 0.993\n",
      "Epoch: 81 cost = 0.012  test accuracy: 0.991\n",
      "Epoch: 82 cost = 0.012  test accuracy: 0.991\n",
      "Epoch: 83 cost = 0.012  test accuracy: 0.993\n",
      "Epoch: 84 cost = 0.012  test accuracy: 0.992\n",
      "Epoch: 85 cost = 0.011  test accuracy: 0.992\n",
      "Epoch: 86 cost = 0.010  test accuracy: 0.992\n",
      "Epoch: 87 cost = 0.010  test accuracy: 0.992\n",
      "Epoch: 88 cost = 0.011  test accuracy: 0.992\n",
      "Epoch: 89 cost = 0.011  test accuracy: 0.991\n",
      "Epoch: 90 cost = 0.009  test accuracy: 0.992\n",
      "Epoch: 91 cost = 0.009  test accuracy: 0.992\n",
      "Epoch: 92 cost = 0.011  test accuracy: 0.990\n",
      "Epoch: 93 cost = 0.010  test accuracy: 0.993\n",
      "Epoch: 94 cost = 0.009  test accuracy: 0.993\n",
      "Epoch: 95 cost = 0.009  test accuracy: 0.993\n",
      "Epoch: 96 cost = 0.011  test accuracy: 0.993\n",
      "Epoch: 97 cost = 0.010  test accuracy: 0.992\n",
      "Epoch: 98 cost = 0.010  test accuracy: 0.992\n",
      "Epoch: 99 cost = 0.010  test accuracy: 0.992\n",
      "Epoch: 100 cost = 0.011  test accuracy: 0.992\n",
      "99.1900026798\n",
      "--- 709.206659078598 seconds ---\n"
     ]
    }
   ],
   "source": [
    "start_time = time.time()\n",
    "\n",
    "#Optimizer\n",
    "\n",
    "optimizer = tf.train.AdamOptimizer(learning_rate = learning_rate).minimize(cross_entropy)\n",
    "\n",
    "#Accuracy\n",
    "\n",
    "correct_prediction = tf.equal(tf.argmax(y, 1), tf.argmax(y_, 1))\n",
    "accuracy = tf.reduce_mean(tf.cast(correct_prediction, tf.float32))\n",
    "\n",
    "#Setup the initialization operator\n",
    "\n",
    "init_op = tf.global_variables_initializer()\n",
    "\n",
    "with tf.Session() as sess:\n",
    "    # initialise the variables\n",
    "    sess.run(init_op)\n",
    "    total_batch = int(len(mnist.train.labels) / batch_size)\n",
    "    writer = tf.summary.FileWriter(\"output\", sess.graph)\n",
    "    for epoch in range(epochs):\n",
    "        avg_cost = 0\n",
    "        for i in range(total_batch):\n",
    "            batch_x, batch_y = mnist.train.next_batch(batch_size=batch_size)\n",
    "            _, c = sess.run([optimizer, cross_entropy], feed_dict={x: batch_x, y: batch_y, keep_prob : 0.5})\n",
    "            avg_cost += c / total_batch\n",
    "        test_acc = sess.run(accuracy, feed_dict={x: mnist.test.images, y: mnist.test.labels, keep_prob : 1.0})\n",
    "        print(\"Epoch:\", (epoch + 1), \"cost =\", \"{:.3f}\".format(avg_cost), \" test accuracy: {:.3f}\".format(test_acc))\n",
    "    print(sess.run(accuracy, feed_dict={x: mnist.test.images, y: mnist.test.labels, keep_prob : 1.0})*100)\n",
    "    print(\"--- %s seconds ---\" % (time.time() - start_time))\n",
    "    writer.close()"
   ]
  },
  {
   "cell_type": "markdown",
   "metadata": {},
   "source": [
    "## Proc - i5-7700HQ\n",
    "## gpu - 1050ti\n",
    "## Py - 3.6.4\n",
    "## Tensorflow - 1.6.0-rc1 gpu\n",
    "## Cuda Toolkit - 9.0"
   ]
  }
 ],
 "metadata": {
  "kernelspec": {
   "display_name": "Python 3",
   "language": "python",
   "name": "python3"
  },
  "language_info": {
   "codemirror_mode": {
    "name": "ipython",
    "version": 3
   },
   "file_extension": ".py",
   "mimetype": "text/x-python",
   "name": "python",
   "nbconvert_exporter": "python",
   "pygments_lexer": "ipython3",
   "version": "3.6.3"
  }
 },
 "nbformat": 4,
 "nbformat_minor": 2
}
