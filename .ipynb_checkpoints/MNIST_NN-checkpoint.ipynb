{
 "cells": [
  {
   "cell_type": "code",
   "execution_count": 1,
   "metadata": {
    "collapsed": true
   },
   "outputs": [],
   "source": [
    "import numpy as np\n",
    "import pandas as pd\n",
    "\n",
    "import tensorflow as tf"
   ]
  },
  {
   "cell_type": "code",
   "execution_count": 2,
   "metadata": {},
   "outputs": [
    {
     "name": "stdout",
     "output_type": "stream",
     "text": [
      "Extracting MNIST_data/train-images-idx3-ubyte.gz\n",
      "Extracting MNIST_data/train-labels-idx1-ubyte.gz\n",
      "Extracting MNIST_data/t10k-images-idx3-ubyte.gz\n",
      "Extracting MNIST_data/t10k-labels-idx1-ubyte.gz\n"
     ]
    }
   ],
   "source": [
    "from tensorflow.examples.tutorials.mnist import input_data\n",
    "\n",
    "mnist = input_data.read_data_sets(\"MNIST_data/\", one_hot = True)"
   ]
  },
  {
   "cell_type": "code",
   "execution_count": 92,
   "metadata": {
    "collapsed": true
   },
   "outputs": [],
   "source": [
    "#Optimizers\n",
    "\n",
    "learning_rate = 0.003\n",
    "epochs = 21\n",
    "batch_size = 100\n",
    "\n",
    "#Training data placeholders\n",
    "\n",
    "x = tf.placeholder(tf.float32, [None, 784])\n",
    "\n",
    "#Output data placeholder - 10 digits\n",
    "\n",
    "y = tf.placeholder(tf.float32, [None, 10])"
   ]
  },
  {
   "cell_type": "code",
   "execution_count": 93,
   "metadata": {
    "collapsed": true
   },
   "outputs": [],
   "source": [
    "#Declare weights for connectors from i/p to hl1\n",
    "\n",
    "W1 = tf.Variable(tf.random_normal([784, 300], stddev = 0.03), name = 'W1')\n",
    "b1 = tf.Variable(tf.random_normal([300], stddev = 0.03), name = \"b1\")\n",
    "\n",
    "#Connectors from hl1 to o/p\n",
    "\n",
    "W2 = tf.Variable(tf.random_normal([300, 10], stddev = 0.03), name = 'W2')\n",
    "b2 = tf.Variable(tf.random_normal([10], stddev = 0.03, name = 'b2'))"
   ]
  },
  {
   "cell_type": "code",
   "execution_count": 94,
   "metadata": {
    "collapsed": true
   },
   "outputs": [],
   "source": [
    "#Calculate the output of the hidden layer\n",
    "\n",
    "hidden_out = tf.add(tf.matmul(x, W1), b1)       #W1*x + b1\n",
    "hidden_out = tf.nn.relu(hidden_out)             #relu activation\n",
    "\n",
    "#dropout activations\n",
    "#tf.nn.dropout(pkeep) #probability of 50-75% = pkeep"
   ]
  },
  {
   "cell_type": "code",
   "execution_count": 95,
   "metadata": {
    "collapsed": true
   },
   "outputs": [],
   "source": [
    "#Hidden layer output - softmax output layer\n",
    "\n",
    "y_ = tf.nn.softmax(tf.add(tf.matmul(hidden_out,W2), b2))"
   ]
  },
  {
   "cell_type": "code",
   "execution_count": 96,
   "metadata": {
    "collapsed": true
   },
   "outputs": [],
   "source": [
    "#to keep the y_ value clipped in (0,1)\n",
    "\n",
    "y_clipped = tf.clip_by_value(y_, 1e-10, 0.9999999)\n",
    "\n",
    "#Cost function to optimize\n",
    "\n",
    "cross_entropy = -tf.reduce_mean(tf.reduce_sum(y * tf.log(y_clipped) + (1 - y)*tf.log(1 - y_clipped), axis = 1))"
   ]
  },
  {
   "cell_type": "code",
   "execution_count": 97,
   "metadata": {
    "collapsed": true
   },
   "outputs": [],
   "source": [
    "#Optimizer\n",
    "\n",
    "optimizer = tf.train.AdamOptimizer(learning_rate = learning_rate).minimize(cross_entropy)"
   ]
  },
  {
   "cell_type": "code",
   "execution_count": 98,
   "metadata": {
    "collapsed": true
   },
   "outputs": [],
   "source": [
    "#Initialisation\n",
    "\n",
    "init_op = tf.global_variables_initializer()\n",
    "\n",
    "#Define accuracy\n",
    "\n",
    "correct_prediction = tf.equal(tf.argmax(y, 1), tf.argmax(y_, 1))\n",
    "accuracy = tf.reduce_mean(tf.cast(correct_prediction, tf.float32))"
   ]
  },
  {
   "cell_type": "code",
   "execution_count": 99,
   "metadata": {},
   "outputs": [
    {
     "name": "stdout",
     "output_type": "stream",
     "text": [
      "Epoch: 1 cost = 0.417\n",
      "96.18 %\n",
      "Epoch: 2 cost = 0.179\n",
      "Epoch: 3 cost = 0.119\n",
      "Epoch: 4 cost = 0.088\n",
      "Epoch: 5 cost = 0.066\n",
      "Epoch: 6 cost = 0.055\n",
      "97.7 %\n",
      "Epoch: 7 cost = 0.049\n",
      "Epoch: 8 cost = 0.040\n",
      "Epoch: 9 cost = 0.039\n",
      "Epoch: 10 cost = 0.031\n",
      "Epoch: 11 cost = 0.027\n",
      "97.96 %\n",
      "Epoch: 12 cost = 0.029\n",
      "Epoch: 13 cost = 0.029\n",
      "Epoch: 14 cost = 0.022\n",
      "Epoch: 15 cost = 0.029\n",
      "Epoch: 16 cost = 0.022\n",
      "98.2 %\n",
      "Epoch: 17 cost = 0.014\n",
      "Epoch: 18 cost = 0.023\n",
      "Epoch: 19 cost = 0.017\n",
      "Epoch: 20 cost = 0.034\n",
      "Epoch: 21 cost = 0.018\n",
      "97.86 %\n"
     ]
    }
   ],
   "source": [
    "#Training\n",
    "\n",
    "with tf.Session() as sess:\n",
    "    sess.run(init_op)\n",
    "    total_batch = int(len(mnist.train.labels)/ batch_size)\n",
    "    writer = tf.summary.FileWriter(\"output\", sess.graph)\n",
    "    for epoch in range(epochs):\n",
    "        avg_cost = 0\n",
    "        for i in range(total_batch):\n",
    "            batch_x, batch_y = mnist.train.next_batch(batch_size = batch_size)\n",
    "            _, c = sess.run([optimizer, cross_entropy],\n",
    "                           feed_dict = {x: batch_x, y: batch_y})\n",
    "            avg_cost += c/ total_batch\n",
    "        print(\"Epoch:\", (epoch + 1), \"cost =\", \"{:.3f}\".format(avg_cost))\n",
    "        if (epoch%5 == 0):\n",
    "            print(sess.run(accuracy*100, feed_dict = {x: mnist.test.images, y: mnist.test.labels}),\"%\")\n",
    "    writer.close()"
   ]
  },
  {
   "cell_type": "code",
   "execution_count": null,
   "metadata": {
    "collapsed": true
   },
   "outputs": [],
   "source": []
  }
 ],
 "metadata": {
  "kernelspec": {
   "display_name": "Python 3",
   "language": "python",
   "name": "python3"
  },
  "language_info": {
   "codemirror_mode": {
    "name": "ipython",
    "version": 3
   },
   "file_extension": ".py",
   "mimetype": "text/x-python",
   "name": "python",
   "nbconvert_exporter": "python",
   "pygments_lexer": "ipython3",
   "version": "3.6.3"
  }
 },
 "nbformat": 4,
 "nbformat_minor": 2
}
