{
 "cells": [
  {
   "cell_type": "code",
   "execution_count": 2,
   "metadata": {},
   "outputs": [
    {
     "ename": "AttributeError",
     "evalue": "module 'cv2.cv2' has no attribute 'face'",
     "output_type": "error",
     "traceback": [
      "\u001b[1;31m---------------------------------------------------------------------------\u001b[0m",
      "\u001b[1;31mAttributeError\u001b[0m                            Traceback (most recent call last)",
      "\u001b[1;32m<ipython-input-2-9ff908789ada>\u001b[0m in \u001b[0;36m<module>\u001b[1;34m()\u001b[0m\n\u001b[0;32m     13\u001b[0m \u001b[1;33m\u001b[0m\u001b[0m\n\u001b[0;32m     14\u001b[0m \u001b[1;31m# Create Local Binary Patterns Histograms for face recognization\u001b[0m\u001b[1;33m\u001b[0m\u001b[1;33m\u001b[0m\u001b[0m\n\u001b[1;32m---> 15\u001b[1;33m \u001b[0mrecognizer\u001b[0m \u001b[1;33m=\u001b[0m \u001b[0mcv2\u001b[0m\u001b[1;33m.\u001b[0m\u001b[0mface\u001b[0m\u001b[1;33m.\u001b[0m\u001b[0mLBPHFaceRecognizer_create\u001b[0m\u001b[1;33m(\u001b[0m\u001b[1;33m)\u001b[0m\u001b[1;33m\u001b[0m\u001b[0m\n\u001b[0m\u001b[0;32m     16\u001b[0m \u001b[1;33m\u001b[0m\u001b[0m\n\u001b[0;32m     17\u001b[0m \u001b[0massure_path_exists\u001b[0m\u001b[1;33m(\u001b[0m\u001b[1;34m\"trainer/\"\u001b[0m\u001b[1;33m)\u001b[0m\u001b[1;33m\u001b[0m\u001b[0m\n",
      "\u001b[1;31mAttributeError\u001b[0m: module 'cv2.cv2' has no attribute 'face'"
     ]
    }
   ],
   "source": [
    "# Import OpenCV2 for image processing\n",
    "import cv2\n",
    "\n",
    "# Import numpy for matrices calculations\n",
    "import numpy as np\n",
    "\n",
    "import os \n",
    "\n",
    "def assure_path_exists(path):\n",
    "    dir = os.path.dirname(path)\n",
    "    if not os.path.exists(dir):\n",
    "        os.makedirs(dir)\n",
    "\n",
    "# Create Local Binary Patterns Histograms for face recognization\n",
    "recognizer = cv2.face.LBPHFaceRecognizer_create()\n",
    "\n",
    "assure_path_exists(\"trainer/\")\n",
    "\n",
    "# Load the trained mode\n",
    "recognizer.read('trainer/trainer.yml')\n",
    "\n",
    "# Load prebuilt model for Frontal Face\n",
    "cascadePath = \"haarcascade_frontalface_default.xml\"\n",
    "\n",
    "# Create classifier from prebuilt model\n",
    "faceCascade = cv2.CascadeClassifier(cascadePath);\n",
    "\n",
    "# Set the font style\n",
    "font = cv2.FONT_HERSHEY_SIMPLEX\n",
    "\n",
    "# Initialize and start the video frame capture\n",
    "cam = cv2.VideoCapture(0)\n",
    "\n",
    "# Loop\n",
    "while True:\n",
    "    # Read the video frame\n",
    "    ret, face_recognition =cam.read()\n",
    "\n",
    "    # Convert the captured frame into grayscale\n",
    "    gray = cv2.cvtColor(face_recognition,cv2.COLOR_BGR2GRAY)\n",
    "\n",
    "    # Get all face from the video frame\n",
    "    faces = faceCascade.detectMultiScale(gray, 1.2,5)\n",
    "\n",
    "    # For each face in faces\n",
    "    for(x,y,w,h) in faces:\n",
    "\n",
    "        # Create rectangle around the face\n",
    "        cv2.rectangle(face_recognition, (x-20,y-20), (x+w+20,y+h+20), (0,255,0), 4)\n",
    "\n",
    "        # Recognize the face belongs to which ID\n",
    "        Id, confidence = recognizer.predict(gray[y:y+h,x:x+w])\n",
    "\n",
    "        # Check the ID if exist \n",
    "        if(Id == 1):\n",
    "            Id = \"Kritanu {0:.2f}%\".format(round(120 - confidence, 2))\n",
    "        if(Id == 2):\n",
    "            Id = \"Dhrumil {0:.2f}%\".format(round(120 - confidence, 2))\n",
    "        if(Id == 4):\n",
    "            Id = \"Param {0:.2f}%\".format(round(120 - confidence, 2))\n",
    "        if(Id == 5):\n",
    "            Id = \"Shivendra {0:.2f}%\".format(round(120 - confidence, 2))\n",
    "\n",
    "        # Put text describe who is in the picture\n",
    "        cv2.rectangle(face_recognition, (x-22,y-90), (x+w+22, y-22), (0,255,0), -1)\n",
    "        cv2.putText(face_recognition, str(Id), (x,y-40), font, 1, (255,255,255), 3)\n",
    "\n",
    "    # Display the video frame with the bounded rectangle\n",
    "    cv2.imshow('face recognition',face_recognition) \n",
    "\n",
    "    # If 'q' is pressed, close program\n",
    "    if cv2.waitKey(10) & 0xFF == ord('q'):\n",
    "        break\n",
    "\n",
    "# Stop the camera\n",
    "cam.release()\n",
    "\n",
    "# Close all windows\n",
    "cv2.destroyAllWindows()"
   ]
  },
  {
   "cell_type": "code",
   "execution_count": 11,
   "metadata": {
    "collapsed": true
   },
   "outputs": [],
   "source": []
  },
  {
   "cell_type": "code",
   "execution_count": null,
   "metadata": {
    "collapsed": true
   },
   "outputs": [],
   "source": []
  }
 ],
 "metadata": {
  "kernelspec": {
   "display_name": "Python 3",
   "language": "python",
   "name": "python3"
  }
 },
 "nbformat": 4,
 "nbformat_minor": 2
}
