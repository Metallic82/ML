{
 "cells": [
  {
   "cell_type": "code",
   "execution_count": 1,
   "metadata": {
    "collapsed": true
   },
   "outputs": [],
   "source": [
    "import cv2\n",
    "cam = cv2.VideoCapture(0)\n",
    "detector=cv2.CascadeClassifier('haarcascade_frontalface_default.xml')"
   ]
  },
  {
   "cell_type": "code",
   "execution_count": 2,
   "metadata": {},
   "outputs": [
    {
     "name": "stdout",
     "output_type": "stream",
     "text": [
      "enter your id: 5\n"
     ]
    }
   ],
   "source": [
    "Id=(input('enter your id: '))\n",
    "num_img=0"
   ]
  },
  {
   "cell_type": "code",
   "execution_count": 3,
   "metadata": {
    "collapsed": true
   },
   "outputs": [],
   "source": [
    "while(True):\n",
    "\n",
    "    # Capture video frame\n",
    "    _, image_frame = cam.read()\n",
    "\n",
    "    # Convert frame to grayscale\n",
    "    gray = cv2.cvtColor(image_frame, cv2.COLOR_BGR2GRAY)\n",
    "\n",
    "    # Detect frames of different sizes, list of faces rectangles\n",
    "    faces = detector.detectMultiScale(gray, 1.3, 5)\n",
    "\n",
    "    # Loops for each faces\n",
    "    for (x,y,w,h) in faces:\n",
    "\n",
    "        # Crop the image frame into rectangle\n",
    "        cv2.rectangle(image_frame, (x,y), (x+w,y+h), (255,0,0), 2)\n",
    "        \n",
    "        # Increment sample face image\n",
    "        num_img += 1\n",
    "\n",
    "        # Save the captured image into the datasets folder\n",
    "        cv2.imwrite(\"dataset/User.\" + str(Id) + '.' + str(num_img) + \".jpg\", gray[y:y+h,x:x+w])\n",
    "\n",
    "        # Display the video frame, with bounded rectangle on the person's face\n",
    "        cv2.imshow('frame', image_frame)\n",
    "\n",
    "    # To stop taking video, press 'q' for at least 100ms\n",
    "    if cv2.waitKey(100) & 0xFF == ord('q'):\n",
    "        break\n",
    "\n",
    "    # If number of images reach 60, stop\n",
    "    elif num_img>60:\n",
    "        break"
   ]
  },
  {
   "cell_type": "code",
   "execution_count": 4,
   "metadata": {
    "collapsed": true
   },
   "outputs": [],
   "source": [
    "cam.release()\n",
    "cv2.destroyAllWindows()"
   ]
  },
  {
   "cell_type": "code",
   "execution_count": null,
   "metadata": {
    "collapsed": true
   },
   "outputs": [],
   "source": []
  }
 ],
 "metadata": {
  "kernelspec": {
   "display_name": "Python 3",
   "language": "python",
   "name": "python3"
  },
  "language_info": {
   "codemirror_mode": {
    "name": "ipython",
    "version": 3
   },
   "file_extension": ".py",
   "mimetype": "text/x-python",
   "name": "python",
   "nbconvert_exporter": "python",
   "pygments_lexer": "ipython3",
   "version": "3.6.3"
  }
 },
 "nbformat": 4,
 "nbformat_minor": 2
}
