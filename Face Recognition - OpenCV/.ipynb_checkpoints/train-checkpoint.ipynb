{
 "cells": [
  {
   "cell_type": "code",
   "execution_count": 1,
   "metadata": {},
   "outputs": [
    {
     "ename": "AttributeError",
     "evalue": "module 'cv2.cv2' has no attribute 'face'",
     "output_type": "error",
     "traceback": [
      "\u001b[1;31m---------------------------------------------------------------------------\u001b[0m",
      "\u001b[1;31mAttributeError\u001b[0m                            Traceback (most recent call last)",
      "\u001b[1;32m<ipython-input-1-920e6c3afde3>\u001b[0m in \u001b[0;36m<module>\u001b[1;34m()\u001b[0m\n\u001b[0;32m     17\u001b[0m \u001b[1;33m\u001b[0m\u001b[0m\n\u001b[0;32m     18\u001b[0m \u001b[1;31m# Create Local Binary Patterns Histograms for face recognization\u001b[0m\u001b[1;33m\u001b[0m\u001b[1;33m\u001b[0m\u001b[0m\n\u001b[1;32m---> 19\u001b[1;33m \u001b[0mrecognizer\u001b[0m \u001b[1;33m=\u001b[0m \u001b[0mcv2\u001b[0m\u001b[1;33m.\u001b[0m\u001b[0mface\u001b[0m\u001b[1;33m.\u001b[0m\u001b[0mLBPHFaceRecognizer_create\u001b[0m\u001b[1;33m(\u001b[0m\u001b[1;33m)\u001b[0m\u001b[1;33m\u001b[0m\u001b[0m\n\u001b[0m\u001b[0;32m     20\u001b[0m \u001b[1;33m\u001b[0m\u001b[0m\n\u001b[0;32m     21\u001b[0m \u001b[1;31m# Using prebuilt frontal face training model, for face detection\u001b[0m\u001b[1;33m\u001b[0m\u001b[1;33m\u001b[0m\u001b[0m\n",
      "\u001b[1;31mAttributeError\u001b[0m: module 'cv2.cv2' has no attribute 'face'"
     ]
    }
   ],
   "source": [
    "# Import OpenCV2 for image processing\n",
    "# Import os for file path\n",
    "import cv2, os\n",
    "\n",
    "# Import numpy for matrix calculation\n",
    "import numpy as np\n",
    "\n",
    "# Import Python Image Library (PIL)\n",
    "from PIL import Image\n",
    "\n",
    "import os\n",
    "\n",
    "def assure_path_exists(path):\n",
    "    dir = os.path.dirname(path)\n",
    "    if not os.path.exists(dir):\n",
    "        os.makedirs(dir)\n",
    "\n",
    "# Create Local Binary Patterns Histograms for face recognization\n",
    "recognizer = cv2.face.LBPHFaceRecognizer_create()\n",
    "\n",
    "# Using prebuilt frontal face training model, for face detection\n",
    "detector = cv2.CascadeClassifier(\"haarcascade_frontalface_default.xml\");\n",
    "\n",
    "# Create method to get the images and label data\n",
    "def getImagesAndLabels(path):\n",
    "\n",
    "    # Get all file path\n",
    "    imagePaths = [os.path.join(path,f) for f in os.listdir(path)] \n",
    "    \n",
    "    # Initialize empty face sample\n",
    "    faceSamples=[]\n",
    "    \n",
    "    # Initialize empty id\n",
    "    ids = []\n",
    "\n",
    "    # Loop all the file path\n",
    "    for imagePath in imagePaths:\n",
    "\n",
    "        # Get the image and convert it to grayscale\n",
    "        PIL_img = Image.open(imagePath).convert('L')\n",
    "\n",
    "        # PIL image to numpy array\n",
    "        img_numpy = np.array(PIL_img,'uint8')\n",
    "\n",
    "        # Get the image id\n",
    "        id = int(os.path.split(imagePath)[-1].split(\".\")[1])\n",
    "\n",
    "        # Get the face from the training images\n",
    "        faces = detector.detectMultiScale(img_numpy)\n",
    "\n",
    "        # Loop for each face, append to their respective ID\n",
    "        for (x,y,w,h) in faces:\n",
    "\n",
    "            # Add the image to face samples\n",
    "            faceSamples.append(img_numpy[y:y+h,x:x+w])\n",
    "\n",
    "            # Add the ID to IDs\n",
    "            ids.append(id)\n",
    "\n",
    "    # Pass the face array and IDs array\n",
    "    return faceSamples,ids\n",
    "\n",
    "# Get the faces and IDs\n",
    "faces,ids = getImagesAndLabels('dataset')\n",
    "\n",
    "# Train the model using the faces and IDs\n",
    "recognizer.train(faces, np.array(ids))\n",
    "\n",
    "# Save the model into trainer.yml\n",
    "assure_path_exists('trainer/')\n",
    "recognizer.write('trainer/trainer.yml')"
   ]
  },
  {
   "cell_type": "code",
   "execution_count": null,
   "metadata": {
    "collapsed": true
   },
   "outputs": [],
   "source": []
  }
 ],
 "metadata": {
  "kernelspec": {
   "display_name": "Python 3",
   "language": "python",
   "name": "python3"
  }
 },
 "nbformat": 4,
 "nbformat_minor": 2
}
